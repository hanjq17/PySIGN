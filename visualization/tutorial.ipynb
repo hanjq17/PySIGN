{
 "cells": [
  {
   "cell_type": "code",
   "execution_count": 1,
   "id": "ddced768",
   "metadata": {},
   "outputs": [],
   "source": [
    "import os\n",
    "import numpy as np\n",
    "import imageio"
   ]
  },
  {
   "cell_type": "code",
   "execution_count": 2,
   "id": "12a8d92c",
   "metadata": {},
   "outputs": [],
   "source": [
    "raw_path = '/Users/jiaor17/Desktop/pyt/md17/raw'"
   ]
  },
  {
   "cell_type": "code",
   "execution_count": 3,
   "id": "ec182975",
   "metadata": {},
   "outputs": [],
   "source": [
    "molecule_files = dict(\n",
    "    Aspirin=\"aspirin_dft.npz\",\n",
    "    Benzene=\"benzene2017_dft.npz\",\n",
    "    Ethanol=\"ethanol_dft.npz\",\n",
    "    Malonaldehyde=\"malonaldehyde_dft.npz\",\n",
    "    Naphthalene=\"naphthalene_dft.npz\",\n",
    "    Salicylic_acid=\"salicylic_dft.npz\",\n",
    "    Toluene=\"toluene_dft.npz\",\n",
    "    Uracil=\"uracil_dft.npz\",\n",
    ")"
   ]
  },
  {
   "cell_type": "code",
   "execution_count": 4,
   "id": "3317f11e",
   "metadata": {},
   "outputs": [],
   "source": [
    "tar_mol = 'Aspirin'"
   ]
  },
  {
   "cell_type": "code",
   "execution_count": 5,
   "id": "bfa711dd",
   "metadata": {},
   "outputs": [],
   "source": [
    "npz_file = np.load(os.path.join(raw_path, molecule_files[tar_mol]))"
   ]
  },
  {
   "cell_type": "code",
   "execution_count": 6,
   "id": "cf2fc00d",
   "metadata": {},
   "outputs": [],
   "source": [
    "dic = {1:'H', 6: 'C', 8:'O', 7:'N'}"
   ]
  },
  {
   "cell_type": "code",
   "execution_count": 7,
   "id": "67e13ba1",
   "metadata": {},
   "outputs": [],
   "source": [
    "from xyz2mol import *"
   ]
  },
  {
   "cell_type": "code",
   "execution_count": 8,
   "id": "888b9f69",
   "metadata": {},
   "outputs": [],
   "source": [
    "mols = xyz2mol(npz_file['z'].tolist(), npz_file['R'][0].tolist(),\n",
    "               charge=0,\n",
    "               use_graph=True,\n",
    "               allow_charged_fragments=True,\n",
    "               embed_chiral=True,\n",
    "               use_huckel=False)"
   ]
  },
  {
   "cell_type": "code",
   "execution_count": 9,
   "id": "d51c0f6f",
   "metadata": {},
   "outputs": [],
   "source": [
    "example_mol = mols[0]"
   ]
  },
  {
   "cell_type": "code",
   "execution_count": 10,
   "id": "969d3b68",
   "metadata": {},
   "outputs": [
    {
     "data": {
      "image/png": "[encoded data removed]",
      "text/plain": [
       "<rdkit.Chem.rdchem.Mol at 0x7ff0bdbf73a0>"
      ]
     },
     "execution_count": 10,
     "metadata": {},
     "output_type": "execute_result"
    }
   ],
   "source": [
    "example_mol"
   ]
  },
  {
   "cell_type": "code",
   "execution_count": 11,
   "id": "15a94b76",
   "metadata": {},
   "outputs": [],
   "source": [
    "def set_rdmol_positions(rdkit_mol, pos):\n",
    "    \"\"\"\n",
    "    Args:\n",
    "        rdkit_mol:  An `rdkit.Chem.rdchem.Mol` object.\n",
    "        pos: (N_atoms, 3)\n",
    "    \"\"\"\n",
    "    mol = copy.deepcopy(rdkit_mol)\n",
    "    set_rdmol_positions_(mol, pos)\n",
    "    return mol\n",
    "\n",
    "\n",
    "def set_rdmol_positions_(mol, pos):\n",
    "    \"\"\"\n",
    "    Args:\n",
    "        rdkit_mol:  An `rdkit.Chem.rdchem.Mol` object.\n",
    "        pos: (N_atoms, 3)\n",
    "    \"\"\"\n",
    "    for i in range(pos.shape[0]):\n",
    "        mol.GetConformer(0).SetAtomPosition(i, pos[i].tolist())\n",
    "    return mol"
   ]
  },
  {
   "cell_type": "code",
   "execution_count": 12,
   "id": "a96d59a0",
   "metadata": {},
   "outputs": [],
   "source": [
    "from rdkit.Chem import PyMol"
   ]
  },
  {
   "cell_type": "markdown",
   "id": "9b7090f2",
   "metadata": {},
   "source": [
    "Run 'pymol -R' in Bash before the following block to start PyMol first. "
   ]
  },
  {
   "cell_type": "code",
   "execution_count": 13,
   "id": "0a5b50ea",
   "metadata": {},
   "outputs": [],
   "source": [
    "v = PyMol.MolViewer()"
   ]
  },
  {
   "cell_type": "markdown",
   "id": "3135137d",
   "metadata": {},
   "source": [
    "## Settings in PyMol\n",
    "\n",
    "Display -> Background -> White\n",
    "\n",
    "Display -> Color Space -> CMYK\n",
    "\n",
    "Setting -> Lines & Sticks -> Ball and Stick\n",
    "\n",
    "Setting -> Lines & Sticks -> Ball and Stick Ratio -> 1.5\n",
    "\n",
    "(PyMol>) set stick_radius=0.15"
   ]
  },
  {
   "cell_type": "code",
   "execution_count": 14,
   "id": "2eb9d5ce",
   "metadata": {},
   "outputs": [],
   "source": [
    "from PIL import Image, ImageDraw, ImageFont"
   ]
  },
  {
   "cell_type": "code",
   "execution_count": 15,
   "id": "9ab2ecae",
   "metadata": {},
   "outputs": [],
   "source": [
    "def cuthead(img, size=10):\n",
    "    im = np.array(img)\n",
    "    cutspace = im[:size,:,:]\n",
    "    cvs = np.ones_like(cutspace) * 255\n",
    "    im[:size,:,:] = cvs   \n",
    "    img2 = Image.fromarray(im).convert('RGB')\n",
    "    return img2"
   ]
  },
  {
   "cell_type": "code",
   "execution_count": 16,
   "id": "08b60583",
   "metadata": {},
   "outputs": [],
   "source": [
    "def add_caption(img, molecule, method, step, mae = None, fontsize=20):\n",
    "    ime = ImageDraw.Draw(img)\n",
    "    ft = ImageFont.truetype(\"times.ttf\",size=fontsize)\n",
    "    ime.text((10,10),f\"{molecule}, {method}\",(0,0,0),font=ft)\n",
    "    if mae is not None:\n",
    "        ime.text((10,15+fontsize),f\"Step={step}, MAE={mae:.4f}\",(0,0,0),font=ft)\n",
    "    else:\n",
    "        ime.text((10,15+fontsize),f\"Step={step}\",(0,0,0),font=ft)"
   ]
  },
  {
   "cell_type": "code",
   "execution_count": 21,
   "id": "2ab0f23b",
   "metadata": {},
   "outputs": [],
   "source": [
    "# Visualize the example\n",
    "v.ShowMol(example_mol)\n",
    "v.server.do(\"color yellow, elem c\")\n",
    "v.server.do(\"color orange, elem h\")\n",
    "v.server.do(\"color blue, elem n\")\n",
    "v.server.do(\"color red, elem o\")\n",
    "img = v.GetPNG(h=300)\n",
    "# You may adjust the view in PyMol for better visualization\n",
    "img = cuthead(img)\n",
    "add_caption(img, tar_mol, 'Example', 0, mae = 0.0, fontsize = 15)"
   ]
  },
  {
   "cell_type": "code",
   "execution_count": 22,
   "id": "1036ff76",
   "metadata": {},
   "outputs": [
    {
     "data": {
      "image/png": "[encoded data removed]",
      "text/plain": [
       "<PIL.Image.Image image mode=RGB size=358x300 at 0x7FF0A823BE10>"
      ]
     },
     "execution_count": 22,
     "metadata": {},
     "output_type": "execute_result"
    }
   ],
   "source": [
    "img"
   ]
  },
  {
   "cell_type": "code",
   "execution_count": 23,
   "id": "f8dc1c1f",
   "metadata": {},
   "outputs": [],
   "source": [
    "os.makedirs('vis',exist_ok=True)"
   ]
  },
  {
   "cell_type": "code",
   "execution_count": 24,
   "id": "6bd75b16",
   "metadata": {},
   "outputs": [],
   "source": [
    "from tqdm import tqdm"
   ]
  },
  {
   "cell_type": "code",
   "execution_count": 25,
   "id": "80747946",
   "metadata": {},
   "outputs": [],
   "source": [
    "def get_traj_images(traj, molecule, method, mae = None):\n",
    "    imgs = []\n",
    "    last_pos = traj[0]\n",
    "    for i in tqdm(range(1000)):\n",
    "        pos = traj[i]\n",
    "        mol = set_rdmol_positions(example_mol, pos)\n",
    "        v.ShowMol(mol)\n",
    "        v.server.do(\"color yellow, elem c\")\n",
    "        v.server.do(\"color orange, elem h\")\n",
    "        v.server.do(\"color blue, elem n\")\n",
    "        v.server.do(\"color red, elem o\")\n",
    "        img = v.GetPNG(h=300)\n",
    "        img = cuthead(img)\n",
    "        if mae is not None:\n",
    "            tmp_mae = mae[i]\n",
    "        else:\n",
    "            tmp_mae = None\n",
    "        add_caption(img, molecule, method, i + 1, tmp_mae, fontsize=15)\n",
    "        imgs.append(img)\n",
    "    return imgs"
   ]
  },
  {
   "cell_type": "code",
   "execution_count": 26,
   "id": "3a83b6ef",
   "metadata": {},
   "outputs": [],
   "source": [
    "# From Ground Truth\n",
    "traj_gt = npz_file['R'][10002:11002]"
   ]
  },
  {
   "cell_type": "code",
   "execution_count": 27,
   "id": "3c328514",
   "metadata": {},
   "outputs": [
    {
     "name": "stderr",
     "output_type": "stream",
     "text": [
      "100%|██████████████████████████████████████████████████████████████| 1000/1000 [08:15<00:00,  2.02it/s]\n"
     ]
    }
   ],
   "source": [
    "imgs = get_traj_images(traj_gt, tar_mol, \"Ground Truth\")"
   ]
  },
  {
   "cell_type": "code",
   "execution_count": 28,
   "id": "477ffc1b",
   "metadata": {},
   "outputs": [],
   "source": [
    "out = imageio.mimsave(\n",
    "            f'vis/{tar_mol}_GT_1000.gif',\n",
    "            imgs, fps=50)"
   ]
  },
  {
   "cell_type": "code",
   "execution_count": 29,
   "id": "32f8e705",
   "metadata": {},
   "outputs": [],
   "source": [
    "# From Generated Pickle File\n",
    "import pickle as pkl\n",
    "path = '../vel_1_pred_1_eval1000'\n",
    "method = 'EGNN_DifferentialVector'\n",
    "with open(os.path.join(path, method, tar_mol,'eval_result.pkl'),'rb') as f:\n",
    "    trajs = pkl.load(f)\n",
    "traj_pred = trajs[1][0]\n",
    "traj_mae = trajs[0][0]"
   ]
  },
  {
   "cell_type": "code",
   "execution_count": 30,
   "id": "0e0ea24d",
   "metadata": {},
   "outputs": [
    {
     "data": {
      "text/plain": [
       "'EGNN DifferentialVector'"
      ]
     },
     "execution_count": 30,
     "metadata": {},
     "output_type": "execute_result"
    }
   ],
   "source": [
    "method_to_show=' '.join(method.split('_'))\n",
    "method_to_show"
   ]
  },
  {
   "cell_type": "code",
   "execution_count": 31,
   "id": "8ec16b84",
   "metadata": {},
   "outputs": [
    {
     "name": "stderr",
     "output_type": "stream",
     "text": [
      "100%|██████████████████████████████████████████████████████████████| 1000/1000 [08:03<00:00,  2.07it/s]\n"
     ]
    }
   ],
   "source": [
    "imgs = get_traj_images(traj_pred, tar_mol, method_to_show, mae = traj_mae)"
   ]
  },
  {
   "cell_type": "code",
   "execution_count": 32,
   "id": "90d1893e",
   "metadata": {},
   "outputs": [],
   "source": [
    "out = imageio.mimsave(\n",
    "            f'vis/{tar_mol}_{method}_1000.gif',\n",
    "            imgs, fps=50)"
   ]
  },
  {
   "cell_type": "code",
   "execution_count": null,
   "id": "ff79464f",
   "metadata": {},
   "outputs": [],
   "source": []
  }
 ],
 "metadata": {
  "kernelspec": {
   "display_name": "icsg3d",
   "language": "python",
   "name": "icsg3d"
  },
  "language_info": {
   "codemirror_mode": {
    "name": "ipython",
    "version": 3
   },
   "file_extension": ".py",
   "mimetype": "text/x-python",
   "name": "python",
   "nbconvert_exporter": "python",
   "pygments_lexer": "ipython3",
   "version": "3.7.11"
  }
 },
 "nbformat": 4,
 "nbformat_minor": 5
}
